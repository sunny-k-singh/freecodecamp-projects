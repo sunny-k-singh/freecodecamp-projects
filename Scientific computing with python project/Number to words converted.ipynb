{
 "cells": [
  {
   "cell_type": "code",
   "execution_count": 1,
   "metadata": {},
   "outputs": [
    {
     "name": "stdout",
     "output_type": "stream",
     "text": [
      "Fifty Thousand Three Hundred Twenty One\n"
     ]
    }
   ],
   "source": [
    "def numberToWords(num):\n",
    "    \n",
    "    tens={\n",
    "            10:\"Ten\",\n",
    "            11:\"Eleven\",\n",
    "            12:\"Twelve\",\n",
    "            13:\"Thirteen\",\n",
    "            14:\"Fourteen\",\n",
    "            15:\"Fifteen\",\n",
    "            16:\"Sixteen\",\n",
    "            17:\"Seventeen\",\n",
    "            18:\"Eighteen\",\n",
    "            19:\"Nineteen\"\n",
    "        }\n",
    "    wenty={\n",
    "            0:\"\",\n",
    "            20:\"Twenty\",\n",
    "            30:\"Thirty\",\n",
    "            40:\"Forty\",\n",
    "            50:\"Fifty\",\n",
    "            60:\"Sixty\",\n",
    "            70:\"Seventy\",\n",
    "            80:\"Eighty\",\n",
    "            90:\"Ninety\"\n",
    "        }\n",
    "\n",
    "    numbers={\n",
    "            0:\"\",\n",
    "            1:\"One\",\n",
    "            2:\"Two\",\n",
    "            3:\"Three\",\n",
    "            4:\"Four\",\n",
    "            5:\"Five\",\n",
    "            6:\"Six\",\n",
    "            7:\"Seven\",\n",
    "            8:\"Eight\",\n",
    "            9:\"Nine\"\n",
    "        }\n",
    "    llions={\n",
    "            0:\"\",\n",
    "            1:\"Thousand\",\n",
    "            2:\"Million\",\n",
    "            3:\"Billion\"\n",
    "        }\n",
    "    def helper(k):\n",
    "            word=\"\"\n",
    "            if k%100<20 and k%100>9: #here tens area works\n",
    "                word=word+tens[k%100]\n",
    "            else:\n",
    "                if ((k%100)//10)*10>0: #here the wenties work\n",
    "                    if numbers[(k%100)%10]!=\"\":\n",
    "                        \n",
    "                        word=word+wenty[((k%100)//10)*10]+\" \"+numbers[(k%100)%10]\n",
    "                    else:\n",
    "                        word=word+wenty[((k%100)//10)*10]\n",
    "                else: #this is for wenty[0]\n",
    "                    word=word+wenty[((k%100)//10)*10]+numbers[(k%100)%10]\n",
    "            if k//100>0:    \n",
    "                if k%100!=0:\n",
    "                    \n",
    "                    word=numbers[(k%1000)//100]+\" Hundred \"+word\n",
    "                else:\n",
    "                    word=numbers[(k%1000)//100]+\" Hundred\"+word\n",
    "            \n",
    "            return word\n",
    "    index=0\n",
    "    word=\"\"\n",
    "    if(num==0):\n",
    "            return \"Zero\"\n",
    "    while num>0:\n",
    "            \n",
    "            if index==0:\n",
    "                word=helper(num%1000)+word\n",
    "            else:\n",
    "\n",
    "                if helper(num%1000)!=\"\" and word!=\"\":\n",
    "                    \n",
    "                    word=helper(num%1000)+\" \"+llions[index]+\" \"+word\n",
    "                elif helper(num%1000)!=\"\" and word==\"\":\n",
    "                    word=helper(num%1000)+\" \"+llions[index]+word    \n",
    "                else:\n",
    "                    word=helper(num%1000)+word #redundant\n",
    "            num=num//1000\n",
    "            index+=1\n",
    "\n",
    "\n",
    "    return word    \n",
    "            \n",
    "                \n",
    "print(numberToWords(50321))                "
   ]
  },
  {
   "cell_type": "code",
   "execution_count": null,
   "metadata": {},
   "outputs": [],
   "source": []
  }
 ],
 "metadata": {
  "kernelspec": {
   "display_name": "Python 3.11.0 64-bit",
   "language": "python",
   "name": "python3"
  },
  "language_info": {
   "codemirror_mode": {
    "name": "ipython",
    "version": 3
   },
   "file_extension": ".py",
   "mimetype": "text/x-python",
   "name": "python",
   "nbconvert_exporter": "python",
   "pygments_lexer": "ipython3",
   "version": "3.11.0"
  },
  "orig_nbformat": 4,
  "vscode": {
   "interpreter": {
    "hash": "5c7b89af1651d0b8571dde13640ecdccf7d5a6204171d6ab33e7c296e100e08a"
   }
  }
 },
 "nbformat": 4,
 "nbformat_minor": 2
}
